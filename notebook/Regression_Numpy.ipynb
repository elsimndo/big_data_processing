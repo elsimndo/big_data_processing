{
 "cells": [
  {
   "cell_type": "code",
   "execution_count": 5,
   "id": "f3d3da13-6768-402c-955d-43170ec2fb3a",
   "metadata": {},
   "outputs": [],
   "source": [
    "import numpy as np"
   ]
  },
  {
   "cell_type": "code",
   "execution_count": 6,
   "id": "349d8d26-7453-47f2-acc3-028610176105",
   "metadata": {},
   "outputs": [
    {
     "name": "stdout",
     "output_type": "stream",
     "text": [
      "[[ 1 39  8]\n",
      " [ 1 52  6]\n",
      " [ 1 48  7]\n",
      " [ 1 46 12]\n",
      " [ 1 61  9]\n",
      " [ 1 34  6]\n",
      " [ 1 25 10]\n",
      " [ 1 55  4]]\n"
     ]
    }
   ],
   "source": [
    "# data\n",
    "X1 = (39,52,48,46,61,34,25,55)\n",
    "X2 = (8,6,7,12,9,6,10,4)\n",
    "y  = (7,6,7,10,9,4,3,4)\n",
    "I = (1,1,1,1,1,1,1,1)\n",
    "\n",
    "X = np.array((I,X1,X2)).transpose()\n",
    "print(X)"
   ]
  },
  {
   "cell_type": "code",
   "execution_count": 7,
   "id": "b58fc95d-b24c-41fd-b7de-2fece24e4a5a",
   "metadata": {},
   "outputs": [
    {
     "name": "stdout",
     "output_type": "stream",
     "text": [
      "X^TX :\n",
      "\n",
      "[[    8   360    62]\n",
      " [  360 17172  2735]\n",
      " [   62  2735   526]]\n",
      "\n",
      "(X^TX)^(-1) :\n",
      "\n",
      "[[ 4.70937295e+00 -6.00410184e-02 -2.42906726e-01]\n",
      " [-6.00410184e-02  1.10434213e-03  1.33491906e-03]\n",
      " [-2.42906726e-01  1.33491906e-03  2.35916604e-02]]\n",
      "\n",
      "(X^TX)^(-1)X^T:\n",
      "\n",
      "[[ 0.42451943  0.12979964  0.12705699 -0.9673946  -1.1392897   1.21053797\n",
      "   0.77928024  0.43549004]\n",
      " [-0.00629232  0.00539429  0.00231184  0.00677775  0.01933812 -0.01448387\n",
      "  -0.01908327  0.00603747]\n",
      " [-0.0021116  -0.03194097 -0.01368899  0.10159948  0.05084828 -0.05596952\n",
      "   0.02638285 -0.07511954]]\n",
      "\n"
     ]
    }
   ],
   "source": [
    "# Calc X^TX\n",
    "XTX = X.transpose().dot(X)\n",
    "print(\"X^TX :\")\n",
    "print(\"\")\n",
    "print(XTX)\n",
    "print(\"\")\n",
    "\n",
    "# Calc (X^TX)^(-1)\n",
    "XTXN1 = np.linalg.inv(XTX)\n",
    "print(\"(X^TX)^(-1) :\")\n",
    "print(\"\")\n",
    "print(XTXN1)\n",
    "print(\"\")\n",
    "\n",
    "# Calc (X^TX)^(-1)X^T\n",
    "XTXN1XT = XTXN1.dot(X.transpose())\n",
    "print(\"(X^TX)^(-1)X^T:\")\n",
    "print(\"\")\n",
    "print(XTXN1XT)\n",
    "print(\"\")\n"
   ]
  },
  {
   "cell_type": "code",
   "execution_count": 31,
   "id": "6c681d20-0453-404b-89cd-297acc7c6c35",
   "metadata": {},
   "outputs": [
    {
     "name": "stdout",
     "output_type": "stream",
     "text": [
      "beta_hat = (X^TX)^(-1)X^Ty :\n",
      "\n",
      "[-6.36576782  0.15528749  0.72617169]\n",
      "\n",
      "const : -6.365767821169365  X1 : 0.1552874930220134  X2 : 0.7261716948617738\n",
      "\n",
      "estimated value 𝐘ˆ=𝐗⋅𝜷̂ :\n",
      "\n",
      "[5.49981797 6.06621199 6.17123371 9.4915172  9.64231451 3.27103711\n",
      " 4.77813645 5.07973107]\n"
     ]
    }
   ],
   "source": [
    "#Calc beta_head =(X^TX)^(-1)X^Ty\n",
    "beta_hat = XTXN1XT.dot(y) \n",
    "print(\"beta_hat = (X^TX)^(-1)X^Ty :\"  )\n",
    "print(\"\")\n",
    "print(beta_hat)\n",
    "print(\"\")\n",
    "print(\"const :\", beta_hat[0], \" X1 :\", beta_hat[1], \" X2 :\", beta_hat[2])\n",
    "print(\"\")\n",
    "Ypred = X.dot(beta_hat)\n",
    "print(\"estimated value 𝐘ˆ=𝐗⋅𝜷̂ :\")\n",
    "print(\"\")\n",
    "print(Ypred)"
   ]
  },
  {
   "cell_type": "code",
   "execution_count": 32,
   "id": "6894a3e3-6fee-449a-a14f-cd7e87311485",
   "metadata": {},
   "outputs": [
    {
     "name": "stdout",
     "output_type": "stream",
     "text": [
      "H = hat matrix :\n",
      "[[ 0.16222604  0.08464904  0.10770673  0.10973338  0.02168333  0.19791085\n",
      "   0.24609536  0.06999527]\n",
      " [ 0.08464904  0.21865671  0.16513859 -0.00535485  0.17138237  0.12155955\n",
      "  -0.05475292  0.29872151]\n",
      " [ 0.10770673  0.16513859  0.14220225  0.06913364  0.14487816  0.12352552\n",
      "   0.04796303  0.19945208]\n",
      " [ 0.10973338 -0.00535485  0.06913364  0.56357552  0.36044331 -0.12735431\n",
      "   0.21804386 -0.18822055]\n",
      " [ 0.02168333  0.17138237  0.14487816  0.36044331  0.49797032 -0.17670384\n",
      "  -0.14735383  0.12770018]\n",
      " [ 0.19791085  0.12155955  0.12352552 -0.12735431 -0.17670384  0.38226924\n",
      "   0.28874603  0.19004696]\n",
      " [ 0.24609536 -0.05475292  0.04796303  0.21804386 -0.14735383  0.28874603\n",
      "   0.56602692 -0.16476845]\n",
      " [ 0.06999527  0.29872151  0.19945208 -0.18822055  0.12770018  0.19004696\n",
      "  -0.16476845  0.46707301]]\n",
      "\n",
      "I = identity matrix :\n",
      "[[1. 0. 0. 0. 0. 0. 0. 0.]\n",
      " [0. 1. 0. 0. 0. 0. 0. 0.]\n",
      " [0. 0. 1. 0. 0. 0. 0. 0.]\n",
      " [0. 0. 0. 1. 0. 0. 0. 0.]\n",
      " [0. 0. 0. 0. 1. 0. 0. 0.]\n",
      " [0. 0. 0. 0. 0. 1. 0. 0.]\n",
      " [0. 0. 0. 0. 0. 0. 1. 0.]\n",
      " [0. 0. 0. 0. 0. 0. 0. 1.]]\n",
      "\n",
      "Residuals u_hat = (I-H)y :\n",
      "[ 1.50018203 -0.06621199  0.82876629  0.5084828  -0.64231451  0.72896289\n",
      " -1.77813645 -1.07973107]\n",
      "\n",
      "RSS = Residual sum of squares, RSS = sum(u_hat^2)\n",
      "8.471881750442936\n",
      "\n",
      "sigma_hat_2 = RSS / (n-k-1), n = #samples, k = #predictors,\n",
      "1.6943763500885871\n"
     ]
    }
   ],
   "source": [
    "#Calc Residuals u_head = (I-H)\n",
    "\n",
    "# H = hat Matrix\n",
    "H = X.dot(XTXN1XT)\n",
    "print(\"H = hat matrix :\")\n",
    "print(H)\n",
    "print(\"\")\n",
    "\n",
    "#I Identity Matrix\n",
    "I = np.identity(len(H))\n",
    "print(\"I = identity matrix :\")\n",
    "print(I)\n",
    "print(\"\")\n",
    "\n",
    "u_hat = np.subtract(I, H).dot(y)\n",
    "print(\"Residuals u_hat = (I-H)y :\")\n",
    "print(u_hat)\n",
    "print(\"\")\n",
    "\n",
    "RSS = np.sum(np.square(u_hat))\n",
    "print(\"RSS = Residual sum of squares, RSS = sum(u_hat^2)\")\n",
    "print(RSS)\n",
    "print(\"\")\n",
    "\n",
    "sigma_hat_2 = RSS / (len(X)-2-1)\n",
    "print(\"sigma_hat_2 = RSS / (n-k-1), n = #samples, k = #predictors,\")\n",
    "print(sigma_hat_2)"
   ]
  },
  {
   "cell_type": "code",
   "execution_count": 33,
   "id": "ba7a2462-ad1c-4842-8691-638fdd65a02c",
   "metadata": {},
   "outputs": [
    {
     "name": "stdout",
     "output_type": "stream",
     "text": [
      "Std. Error Coefficents\n",
      "\n",
      "const : 2.8247920549673764\n",
      "\n",
      "X1: 0.04325703623045495\n",
      "\n",
      "X2: 0.19993286732127746\n"
     ]
    }
   ],
   "source": [
    "#Calc Std.Error Coefficents beta_hat[i] / std_error[i]\n",
    "print(\"Std. Error Coefficents\")\n",
    "print(\"\")\n",
    "print(\"const :\", np.sqrt(XTXN1[0,0]*sigma_hat_2)) \n",
    "print(\"\")\n",
    "print(\"X1:\", np.sqrt(XTXN1[1,1]*sigma_hat_2)) \n",
    "print(\"\")\n",
    "print(\"X2:\", np.sqrt(XTXN1[2,2]*sigma_hat_2)) \n",
    "\n"
   ]
  },
  {
   "cell_type": "code",
   "execution_count": 34,
   "id": "be122201-7683-41fe-b585-340fc3b4c595",
   "metadata": {},
   "outputs": [
    {
     "name": "stdout",
     "output_type": "stream",
     "text": [
      "t-Values Coefficents\n",
      "\n",
      "const : -2.253535020383256\n",
      "\n",
      "X1: 3.5898782384143972\n",
      "\n",
      "X2: 3.6320776298119566\n"
     ]
    }
   ],
   "source": [
    "#Calc t-values for Coefficents\n",
    "print(\"t-Values Coefficents\")\n",
    "print(\"\")\n",
    "print(\"const :\", beta_hat[0]/np.sqrt(XTXN1[0,0]*sigma_hat_2)) \n",
    "print(\"\")\n",
    "print(\"X1:\", beta_hat[1]/np.sqrt(XTXN1[1,1]*sigma_hat_2)) \n",
    "print(\"\")\n",
    "print(\"X2:\", beta_hat[2]/np.sqrt(XTXN1[2,2]*sigma_hat_2)) "
   ]
  },
  {
   "cell_type": "code",
   "execution_count": 35,
   "id": "3f33a009-0585-40db-90f8-649d7953931b",
   "metadata": {},
   "outputs": [
    {
     "name": "stdout",
     "output_type": "stream",
     "text": [
      "p-Values Coefficients\n",
      "\n",
      "const : -0.281691877547907\n"
     ]
    }
   ],
   "source": [
    "print(\"p-Values Coefficients\")\n",
    "print(\"\")\n",
    "print(\"const :\", (beta_hat[0]/np.sqrt(XTXN1[0,0]*sigma_hat_2))/8)"
   ]
  },
  {
   "cell_type": "code",
   "execution_count": 36,
   "id": "cf47ac1d-c800-48a3-8fc5-fd2db048b875",
   "metadata": {},
   "outputs": [],
   "source": [
    "# Calc \n",
    "#1. const: σ^2 = Σ (x i - μ) 2 / N.\n"
   ]
  },
  {
   "cell_type": "code",
   "execution_count": 47,
   "id": "bb880057-8475-4386-8aca-406c0a07bf6b",
   "metadata": {},
   "outputs": [
    {
     "name": "stdout",
     "output_type": "stream",
     "text": [
      "const_omega\n",
      "[1.69437635 1.69437635 1.69437635 1.69437635 1.69437635 1.69437635\n",
      " 1.69437635 1.69437635]\n",
      "\n",
      "Const - Matrix:   = (X.T X)^(-1)X.T diag(const_omega) X(X.T X)^(-1)\n",
      "[[ 7.97945015e+00 -1.01732082e-01 -4.11575411e-01]\n",
      " [-1.01732082e-01  1.87117118e-03  2.26185528e-03]\n",
      " [-4.11575411e-01  2.26185528e-03  3.99731514e-02]]\n",
      "\n",
      "StdError: const_se = sqrt(diag(const_se))\n",
      "[2.02832183 0.03955331 0.11967825]\n"
     ]
    }
   ],
   "source": [
    "#const\n",
    "# sqrt(diag(X.T X)^(-1)X.T diag(e_i^(2)) X(X.T X)^(-1)\n",
    "const_omega = np.full(len(X),sigma_hat_2)\n",
    "print(\"const_omega\")\n",
    "print(const_omega)\n",
    "print(\"\")\n",
    "const_ = XTXN1XT.dot(np.diag(const_omega)).dot(X).dot(XTXN1)\n",
    "print(\"Const - Matrix:   = (X.T X)^(-1)X.T diag(const_omega) X(X.T X)^(-1)\")\n",
    "print(const_)\n",
    "print(\"\")\n",
    "const_se = np.sqrt(np.diag(const_))\n",
    "print(\"StdError: const_se = sqrt(diag(const_se))\")\n",
    "print(HC0_se)"
   ]
  },
  {
   "cell_type": "code",
   "execution_count": 38,
   "id": "780cd553-8af2-4a2b-a162-97fc2e795fef",
   "metadata": {},
   "outputs": [
    {
     "name": "stdout",
     "output_type": "stream",
     "text": [
      "HC0_omega\n",
      "[2.25054614 0.00438403 0.68685357 0.25855476 0.41256793 0.53138689\n",
      " 3.16176925 1.16581919]\n",
      "\n",
      "HC0 - Matrix:  HCO = (X.T X)^(-1)X.T diag(e_i^(2)) X(X.T X)^(-1)\n",
      "[[ 4.11408945e+00 -6.98628036e-02 -6.16799203e-02]\n",
      " [-6.98628036e-02  1.56446466e-03 -1.09868721e-03]\n",
      " [-6.16799203e-02 -1.09868721e-03  1.43228835e-02]]\n",
      "\n",
      "StdError: HC0_se = sqrt(diag(HC0))\n",
      "[2.02832183 0.03955331 0.11967825]\n",
      "\n",
      "beta_hat_HC0 = HC0y :\n",
      "\n",
      "(7, 6, 7, 10, 9, 4, 3, 4)\n"
     ]
    }
   ],
   "source": [
    "#HCO\n",
    "# sqrt(diag(X.T X)^(-1)X.T diag(e_i^(2)) X(X.T X)^(-1)\n",
    "u_hat_2 = u_hat**2\n",
    "HC0_omega = u_hat_2\n",
    "print(\"HC0_omega\")\n",
    "print(HC0_omega)\n",
    "print(\"\")\n",
    "HC0 = XTXN1XT.dot(np.diag(u_hat_2)).dot(X).dot(XTXN1)\n",
    "print(\"HC0 - Matrix:  HCO = (X.T X)^(-1)X.T diag(u_hat_2) X(X.T X)^(-1)\")\n",
    "print(HC0)\n",
    "print(\"\")\n",
    "HC0_se = np.sqrt(np.diag(HC0))\n",
    "print(\"StdError: HC0_se = sqrt(diag(HC0))\")\n",
    "print(HC0_se)\n",
    "print(\"\")\n",
    "print(\"beta_hat_HC0 = HC0y :\"  )\n",
    "print(\"\")\n",
    "print(y)"
   ]
  },
  {
   "cell_type": "code",
   "execution_count": 39,
   "id": "ad244a7a-ed4d-4449-8ed6-97a2ce5f2cf3",
   "metadata": {},
   "outputs": [
    {
     "name": "stdout",
     "output_type": "stream",
     "text": [
      "HC1 Omega\n",
      "[3.60087382 0.00701444 1.09896571 0.41368762 0.66010868 0.85021903\n",
      " 5.05883079 1.86531071]\n",
      "\n",
      "HC1 - Matrix:  HC1 = n/(n-k)*HC0, n = #samples, k = #predictors\n",
      "[[ 6.58254312e+00 -1.11780486e-01 -9.86878725e-02]\n",
      " [-1.11780486e-01  2.50314345e-03 -1.75789953e-03]\n",
      " [-9.86878725e-02 -1.75789953e-03  2.29166136e-02]]\n",
      "\n",
      "StdError: HC1_se = np.sqrt(np.diag(HC1))\n",
      "[2.56564672 0.05003142 0.15138234]\n"
     ]
    }
   ],
   "source": [
    "#HC1 \n",
    "#sqrt(diag(n/(n-k)*HC0)\n",
    "v = len(X)/((len(X)-len(beta_hat)))\n",
    "HC1_omega = v*u_hat_2\n",
    "print(\"HC1 Omega\")\n",
    "print(HC1_omega)\n",
    "print(\"\")\n",
    "HC1 = v*HC0\n",
    "HC1\n",
    "print(\"HC1 - Matrix:  HC1 = n/(n-k)*HC0, n = #samples, k = #predictors\")\n",
    "print(HC1)\n",
    "print(\"\")\n",
    "HC1_se = np.sqrt(np.diag(HC1))\n",
    "\n",
    "print(\"StdError: HC1_se = np.sqrt(np.diag(HC1))\")\n",
    "print(HC1_se)"
   ]
  },
  {
   "cell_type": "code",
   "execution_count": 40,
   "id": "48fcb503-c90e-4e1b-bfc8-a6e58cd1ed12",
   "metadata": {},
   "outputs": [
    {
     "name": "stdout",
     "output_type": "stream",
     "text": [
      "HC2_omega\n",
      "[2.68634052e+00 5.61088451e-03 8.00717382e-01 5.92438723e-01\n",
      " 8.21799864e-01 8.60224113e-01 7.28563445e+00 2.18757768e+00]\n",
      "\n",
      "HC2\n",
      "[[ 8.21811529e+00 -1.46603907e-01 -8.97174863e-02]\n",
      " [-1.46603907e-01  3.35876116e-03 -2.73746645e-03]\n",
      " [-8.97174863e-02 -2.73746645e-03  2.85182802e-02]]\n",
      "\n",
      "StdError: HC2_se\n",
      "[2.86672553 0.05795482 0.16887356]\n"
     ]
    }
   ],
   "source": [
    "#HC2\n",
    "#(X.T X)^(-1)X.T diag(e_i^(2)/(1-h_ii)) X(X.T X)^(-1) where h_ii = x_i(X.T X)^(-1)x_i.T\n",
    "# HC2_omega = u_hat^(2)/(1-h_ii)\n",
    "h_ii = np.diag(H)\n",
    "v1 = (1,1,1,1,1,1,1,1)\n",
    "uu = np.subtract(v1,h_ii)\n",
    "HC2_omega =np.divide(u_hat_2,uu)\n",
    "print(\"HC2_omega\")\n",
    "print(HC2_omega)\n",
    "print(\"\")\n",
    "HC2 = XTXN1XT.dot(np.diag(np.divide(u_hat_2,uu))).dot(X).dot(XTXN1)\n",
    "print(\"HC2\")\n",
    "print(HC2)\n",
    "print(\"\")\n",
    "print(\"StdError: HC2_se\")\n",
    "HC2_se = np.sqrt(np.diag(HC2))\n",
    "print(HC2_se)"
   ]
  },
  {
   "cell_type": "code",
   "execution_count": 41,
   "id": "0f6672b9-49cd-460b-853f-4729e5f2c6f7",
   "metadata": {},
   "outputs": [
    {
     "name": "stdout",
     "output_type": "stream",
     "text": [
      "HC3_omega\n",
      "[3.20652185e+00 7.18107465e-03 9.33457082e-01 1.35748280e+00\n",
      " 1.63695473e+00 1.39255509e+00 1.67882174e+01 4.10483558e+00]\n",
      "\n",
      "HC3\n",
      "[[ 1.70024503e+01 -3.16536334e-01 -1.16255852e-01]\n",
      " [-3.16536334e-01  7.36222282e-03 -6.62893362e-03]\n",
      " [-1.16255852e-01 -6.62893362e-03  5.76527028e-02]]\n",
      "\n",
      "StdError: HC3_se\n",
      "[4.12340276 0.0858034  0.24010977]\n"
     ]
    }
   ],
   "source": [
    "#HC3\n",
    "#(X.T X)^(-1)X.T diag(e_i^(2)/(1-h_ii)^(2)) X(X.T X)^(-1), resid^(2)/(1-h_ii)^(2)\n",
    "# HC2 = u_hat^(2)/(1-h_ii)\n",
    "h_ii = np.diag(H)\n",
    "v1 = (1,1,1,1,1,1,1,1)\n",
    "uu = np.subtract(v1,h_ii)**2\n",
    "HC3_omega =np.divide(u_hat_2,uu)\n",
    "print(\"HC3_omega\")\n",
    "print(HC3_omega)\n",
    "print(\"\")\n",
    "HC3 = XTXN1XT.dot(np.diag(np.divide(u_hat_2,uu))).dot(X).dot(XTXN1)\n",
    "print(\"HC3\")\n",
    "print(HC3)\n",
    "print(\"\")\n",
    "HC3_se = np.sqrt(np.diag(HC3))\n",
    "print(\"StdError: HC3_se\")\n",
    "print(HC3_se)"
   ]
  },
  {
   "cell_type": "code",
   "execution_count": 44,
   "id": "5cb95421-960b-4d5e-bb9e-d95449a41b06",
   "metadata": {},
   "outputs": [
    {
     "name": "stdout",
     "output_type": "stream",
     "text": [
      "HC4_omega\n",
      "[2.40500148 0.00480903 0.7275198  0.35284716 0.53422221 0.63659193\n",
      " 4.32395956 1.47615107]\n",
      "\n",
      "HC4\n",
      "[[ 5.30753211e+00 -9.18734822e-02 -7.15920170e-02]\n",
      " [-9.18734822e-02  2.07725412e-03 -1.55402997e-03]\n",
      " [-7.15920170e-02 -1.55402997e-03  1.85091960e-02]]\n",
      "\n",
      "StdError: HC4_se\n",
      "[2.30380818 0.0455769  0.13604851]\n"
     ]
    }
   ],
   "source": [
    "#HC4\n",
    "h_ii = np.diag(H)\n",
    "v1 = (1,1,1,1,1,1,1,1)\n",
    "phi = min(4,np.mean(h_ii))\n",
    "uu = np.subtract(v1,h_ii)**phi\n",
    "HC4_omega =np.divide(u_hat_2,uu)\n",
    "print(\"HC4_omega\")\n",
    "print(HC4_omega)\n",
    "print(\"\")\n",
    "HC4 = XTXN1XT.dot(np.diag(HC4_omega)).dot(X).dot(XTXN1)\n",
    "print(\"HC4\")\n",
    "print(HC4)\n",
    "print(\"\")\n",
    "HC4_se = np.sqrt(np.diag(HC4))\n",
    "print(\"StdError: HC4_se\")\n",
    "print(HC4_se)\n"
   ]
  },
  {
   "cell_type": "code",
   "execution_count": null,
   "id": "f55fcb8c-d613-47da-b649-bf7c06c72c4e",
   "metadata": {},
   "outputs": [],
   "source": [
    "#HAC Plotten"
   ]
  },
  {
   "cell_type": "code",
   "execution_count": null,
   "id": "049a686c-a6d2-4b98-82e4-ce942f15721a",
   "metadata": {},
   "outputs": [],
   "source": []
  },
  {
   "cell_type": "code",
   "execution_count": null,
   "id": "fb267119-d50c-4e4d-a533-ffd3760b549d",
   "metadata": {},
   "outputs": [],
   "source": []
  },
  {
   "cell_type": "code",
   "execution_count": null,
   "id": "df69b57e-ddaa-44a3-a60e-b32239cc1c2f",
   "metadata": {},
   "outputs": [],
   "source": []
  },
  {
   "cell_type": "code",
   "execution_count": null,
   "id": "1bc39719-9bd4-4885-8d8a-8748dc992d99",
   "metadata": {},
   "outputs": [],
   "source": []
  },
  {
   "cell_type": "code",
   "execution_count": null,
   "id": "eef7e530-29f2-46ba-9397-4580879c2d03",
   "metadata": {},
   "outputs": [],
   "source": []
  }
 ],
 "metadata": {
  "kernelspec": {
   "display_name": "Python 3 (ipykernel)",
   "language": "python",
   "name": "python3"
  },
  "language_info": {
   "codemirror_mode": {
    "name": "ipython",
    "version": 3
   },
   "file_extension": ".py",
   "mimetype": "text/x-python",
   "name": "python",
   "nbconvert_exporter": "python",
   "pygments_lexer": "ipython3",
   "version": "3.9.12"
  }
 },
 "nbformat": 4,
 "nbformat_minor": 5
}
